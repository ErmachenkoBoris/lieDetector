{
  "nbformat": 4,
  "nbformat_minor": 0,
  "metadata": {
    "colab": {
      "name": "Deception-demo.ipynb",
      "provenance": [],
      "collapsed_sections": [],
      "machine_shape": "hm"
    },
    "kernelspec": {
      "name": "python3",
      "display_name": "Python 3"
    },
    "language_info": {
      "name": "python"
    },
    "accelerator": "GPU"
  },
  "cells": [
    {
      "cell_type": "code",
      "metadata": {
        "colab": {
          "base_uri": "https://localhost:8080/"
        },
        "id": "EEVZr8pjiAnI",
        "outputId": "857d9b96-277b-4e35-8d2b-3ec7b9d7866b"
      },
      "source": [
        "!pip install tensorflow_addons -q\n",
        "!pip install git+https://github.com/rcmalli/keras-vggface.git -q\n",
        "!pip install kapre==0.1.7 -q\n",
        "!pip install keras -q\n",
        "!pip install keras_applications -q\n",
        "!pip install opensmile -q\n",
        "!pip install torch -q"
      ],
      "execution_count": null,
      "outputs": [
        {
          "output_type": "stream",
          "text": [
            "  Building wheel for keras-vggface (setup.py) ... \u001b[?25l\u001b[?25hdone\n"
          ],
          "name": "stdout"
        }
      ]
    },
    {
      "cell_type": "code",
      "metadata": {
        "colab": {
          "base_uri": "https://localhost:8080/"
        },
        "id": "g0xNUreVh_bo",
        "outputId": "72a674fe-da09-4678-e621-ec8d7c2f3a80"
      },
      "source": [
        "!git clone https://github.com/ErmachenkoBoris/lieDetector.git"
      ],
      "execution_count": null,
      "outputs": [
        {
          "output_type": "stream",
          "text": [
            "fatal: destination path 'lieDetector' already exists and is not an empty directory.\n"
          ],
          "name": "stdout"
        }
      ]
    },
    {
      "cell_type": "code",
      "metadata": {
        "id": "rmEQbMeYiOEG"
      },
      "source": [
        "import sys\n",
        "sys.path.append('/content/lieDetector')"
      ],
      "execution_count": null,
      "outputs": []
    },
    {
      "cell_type": "code",
      "metadata": {
        "id": "ULLuiVW-Wx7s",
        "colab": {
          "base_uri": "https://localhost:8080/"
        },
        "outputId": "2eff1224-bae5-4631-89e1-bcdfc743f6f6"
      },
      "source": [
        "import os\n",
        "import csv\n",
        "import numpy as np\n",
        "import librosa as lb\n",
        "import librosa\n",
        "import opensmile\n",
        "import tensorflow as tf\n",
        "import torch\n",
        "import torchvision\n",
        "import cv2\n",
        "import math\n",
        "import cv2\n",
        "import numpy as np\n",
        "import opensmile\n",
        "import resampy\n",
        "import tensorflow as tf\n",
        "from kapre.time_frequency import Melspectrogram\n",
        "from keras import Model\n",
        "from keras_vggface import VGGFace\n",
        "\n",
        "from dataset.tf_example_writer import TfExampleWriter\n",
        "from utils.dirs import create_dirs\n",
        "from random import shuffle\n",
        "from numbers import Real\n",
        "\n",
        "import cv2\n",
        "import numpy as np\n",
        "import opensmile\n",
        "import resampy\n",
        "import random"
      ],
      "execution_count": null,
      "outputs": [
        {
          "output_type": "stream",
          "text": [
            "SoX could not be found!\n",
            "\n",
            "    If you do not have SoX, proceed here:\n",
            "     - - - http://sox.sourceforge.net/ - - -\n",
            "\n",
            "    If you do (or think that you should) have SoX, double-check your\n",
            "    path variables.\n",
            "    \n"
          ],
          "name": "stderr"
        }
      ]
    },
    {
      "cell_type": "markdown",
      "metadata": {
        "id": "DhZJbqFCYZFm"
      },
      "source": [
        "# Конфигурация"
      ]
    },
    {
      "cell_type": "code",
      "metadata": {
        "id": "8nvmMdW9Pw2h"
      },
      "source": [
        "import torch\n",
        "\n",
        "device = torch.device('cuda:0')"
      ],
      "execution_count": null,
      "outputs": []
    },
    {
      "cell_type": "code",
      "metadata": {
        "id": "Cye5_OLAoYwp"
      },
      "source": [
        "from enum import Enum\n",
        "import tensorflow as tf\n",
        "from abc import ABC\n",
        "\n",
        "\n",
        "class TimeDependentModality(ABC):\n",
        "    WINDOW_STEP_IN_SECS = 1\n",
        "    WINDOW_WIDTH_IN_SECS = 5\n",
        "\n",
        "\n",
        "class VideoModalityConfig(TimeDependentModality):\n",
        "    def __init__(self):\n",
        "        super().__init__()\n",
        "        self.FRAMES_PERIOD = 5\n",
        "        self.SHAPE = 224\n",
        "        self.FPS = 32\n",
        "        self.FILE_EXT = '.mp4'\n",
        "\n",
        "\n",
        "class PulseConfig(TimeDependentModality):\n",
        "    def __init__(self):\n",
        "        super().__init__()\n",
        "        self.FPS = 50\n",
        "        self.SHAPE = 224\n",
        "        self.FILE_EXT = '.mp4'\n",
        "\n",
        "\n",
        "class VideoSceneModalityConfig(VideoModalityConfig):\n",
        "    def __init__(self):\n",
        "        super().__init__()\n",
        "        self.FILE_EXT = '.mp4'\n",
        "\n",
        "\n",
        "class AudioModalityConfig(TimeDependentModality):\n",
        "    def __init__(self):\n",
        "        super().__init__()\n",
        "        self.SR = 48000\n",
        "        self.FILE_EXT = '.wav'\n",
        "\n",
        "\n",
        "class Modality(Enum):\n",
        "    def __new__(cls, *args, **kwds):\n",
        "        value = len(cls.__members__) + 1\n",
        "        obj = object.__new__(cls)\n",
        "        obj._value_ = value\n",
        "        return obj\n",
        "\n",
        "    def __init__(self, config):\n",
        "        self.config = config\n",
        "\n",
        "    AUDIO = AudioModalityConfig()\n",
        "    VIDEO_FACE = VideoModalityConfig()\n",
        "    VIDEO_SCENE = VideoSceneModalityConfig()\n",
        "    PULSE = PulseConfig()"
      ],
      "execution_count": null,
      "outputs": []
    },
    {
      "cell_type": "code",
      "metadata": {
        "id": "mtFjqXyeYSbk"
      },
      "source": [
        "PRETRAINED_MODELS = \"/content/drive/MyDrive/pretrained/\""
      ],
      "execution_count": null,
      "outputs": []
    },
    {
      "cell_type": "code",
      "metadata": {
        "id": "4hdo2KjIpmol"
      },
      "source": [
        "class ByteEncoder:\n",
        "    def transform(self, feature):\n",
        "        return tf.train.Feature(bytes_list=tf.train.BytesList(value=[feature]))\n",
        "\n",
        "\n",
        "class IntEncoder:\n",
        "    def transform(self, feature):\n",
        "        return tf.train.Feature(int64_list=tf.train.Int64List(value=[feature]))\n",
        "\n",
        "\n",
        "class TensorEncoder(ByteEncoder):\n",
        "    def transform(self, feature):\n",
        "        feature = tf.io.serialize_tensor(tf.constant(feature)).numpy()\n",
        "        return super().transform(feature)\n",
        "\n",
        "\n",
        "class FeaturesSetConfig:\n",
        "    def __init__(self, shape, input_shape=None):\n",
        "        self.shape = shape\n",
        "        self.input_shape = input_shape if input_shape is not None else shape\n",
        "\n",
        "\n",
        "class DatasetFeaturesSet(Enum):\n",
        "    def __new__(cls, *args, **kwds):\n",
        "        value = len(cls.__members__) + 1\n",
        "        obj = object.__new__(cls)\n",
        "        obj._value_ = value\n",
        "        return obj\n",
        "\n",
        "    def __init__(self, encoder, config):\n",
        "        self.encoder = encoder\n",
        "        self.config = config\n",
        "\n",
        "    OPENSMILE_ComParE_2016 = TensorEncoder(), FeaturesSetConfig(shape=(10, 6373), input_shape=(10, 6373))\n",
        "    AUDIO = TensorEncoder(), FeaturesSetConfig(shape=(10, 512), input_shape=(10, 512))\n",
        "    VIDEO_FACE = TensorEncoder(), FeaturesSetConfig(shape=0)\n",
        "    VIDEO_SCENE = TensorEncoder(), FeaturesSetConfig(shape=0)\n",
        "    PULSE = TensorEncoder(), FeaturesSetConfig(shape=(33, 512))\n",
        "    CLASS = TensorEncoder(), FeaturesSetConfig(shape=7)\n",
        "    VIDEO_FACE_R2PLUS1_FEATURES = TensorEncoder(), FeaturesSetConfig(shape=(33, 512))\n",
        "    VIDEO_SCENE_R2PLUS1_FEATURES = TensorEncoder(), FeaturesSetConfig(shape=(33, 512))\n"
      ],
      "execution_count": null,
      "outputs": []
    },
    {
      "cell_type": "markdown",
      "metadata": {
        "id": "E0IJC_a-gz3h"
      },
      "source": [
        "# Модели"
      ]
    },
    {
      "cell_type": "code",
      "metadata": {
        "id": "Gv5bv8REg3Jj"
      },
      "source": [
        "def get_r2_plus_1_model(base_path):\n",
        "    return torchvision.models.video.r2plus1d_18(pretrained=True).to(device)\n",
        "\n",
        "def get_l3_model(base_path):\n",
        "    model = tf.keras.models.load_model(base_path + \"/openl3_audio_mel256_env.h5\", custom_objects={\n",
        "        'Melspectrogram': Melspectrogram}, compile=False)\n",
        "\n",
        "    output = model.get_layer('activation_7').output\n",
        "    output = tf.keras.layers.GlobalAveragePooling2D()(output)\n",
        "    intermediate_layer_model = Model(inputs=model.input, outputs=output)\n",
        "    return intermediate_layer_model\n",
        "\n",
        "def get_vgg_model():\n",
        "    return tf.keras.applications.VGG16(include_top=False, weights='imagenet', input_shape=(224, 224, 3))\n",
        "\n",
        "def get_vgg_face_model():\n",
        "    return VGGFace(include_top=False, weights='vggface', input_shape=(224, 224, 3), pooling='avg')"
      ],
      "execution_count": null,
      "outputs": []
    },
    {
      "cell_type": "markdown",
      "metadata": {
        "id": "xllfNFUkvPOm"
      },
      "source": [
        "# Утилиты для видео"
      ]
    },
    {
      "cell_type": "code",
      "metadata": {
        "id": "-EliF0BDvSAU"
      },
      "source": [
        "def open_video(filename: str, size=224) -> tuple:\n",
        "    cap = cv2.VideoCapture(filename)\n",
        "    if not cap.isOpened():\n",
        "        print(\"[ERROR][TF RECORDS BUILDING][VIDEO FACE] It's impossible to open file '{}'\".format(filename))\n",
        "        cap.release()\n",
        "\n",
        "        filename = os.path.splitext(filename)[0] + \".avi\"\n",
        "        cap = cv2.VideoCapture(filename)\n",
        "        if not cap.isOpened():\n",
        "            cap.release()\n",
        "            print(\"[ERROR][TF RECORDS BUILDING][VIDEO FACE] It's impossible to open file '{}'\".format(filename))\n",
        "            filename = os.path.splitext(filename)[0] + \".mov\"\n",
        "            cap = cv2.VideoCapture(filename)\n",
        "            if not cap.isOpened():\n",
        "                cap.release()\n",
        "                print(\"[ERROR][TF RECORDS BUILDING][VIDEO FACE] It's impossible to open file '{}'\".format(filename))\n",
        "                raise RuntimeError\n",
        "\n",
        "    fps = cap.get(cv2.CAP_PROP_FPS)\n",
        "\n",
        "    example_frames = []\n",
        "    while cap.isOpened():\n",
        "        read, frame = cap.read()\n",
        "        if not read:\n",
        "            break\n",
        "        example_frames.append(cv2.resize(frame, (size, size)))\n",
        "\n",
        "    cap.release()\n",
        "    return example_frames, fps\n",
        "\n",
        "\n",
        "def extract_frames_from_video_with_fps(frames: list, fps, example: str, offset: float, duration: float, modality):\n",
        "    offset_frames_count = math.floor(fps * offset)\n",
        "    extracted_frames_count = math.floor(fps * duration)\n",
        "\n",
        "    source_frames_count = math.floor(modality.config.FPS * duration)\n",
        "    if extracted_frames_count < source_frames_count:\n",
        "        diff = (source_frames_count - extracted_frames_count)\n",
        "        delta = math.floor(diff / 2)\n",
        "        offset_frames_count = math.floor(max(0, offset_frames_count - delta))\n",
        "        extracted_frames_count = math.floor(min(len(frames) - 1, extracted_frames_count + diff))\n",
        "\n",
        "    example_frames_list = frames[offset_frames_count:offset_frames_count + extracted_frames_count]\n",
        "\n",
        "    example_total_frames = len(example_frames_list)\n",
        "\n",
        "    frames_period = math.ceil(example_total_frames / source_frames_count)\n",
        "    period_res = source_frames_count - (math.ceil(example_total_frames / frames_period))\n",
        "\n",
        "    print(\"[INFO][{}] video frames_period:={}, period_res:={}\".format(example, frames_period, period_res))\n",
        "\n",
        "    # to get N frames from the face we extract frames with period and then randomly add\n",
        "    counter_1 = 0\n",
        "    result_list = []\n",
        "    for i in range(example_total_frames):\n",
        "        if frames_period == 1 or i % frames_period == 0:\n",
        "            result_list.append(example_frames_list[i])\n",
        "        elif (i - frames_period // 2) % frames_period == 0 and counter_1 < period_res:\n",
        "            counter_1 += 1\n",
        "            result_list.append(example_frames_list[i])\n",
        "\n",
        "    result_list_resized = []\n",
        "    for frame in result_list:\n",
        "        result_list_resized.append(cv2.resize(frame, (modality.config.SHAPE, modality.config.SHAPE)))\n",
        "\n",
        "    if len(result_list_resized) != source_frames_count:\n",
        "        delta = source_frames_count - len(result_list_resized)\n",
        "        result_list_resized = np.pad(result_list_resized, ((0, delta), (0, 0), (0, 0), (0, 0)), 'constant')\n",
        "\n",
        "    return np.asarray(result_list_resized)\n"
      ],
      "execution_count": null,
      "outputs": []
    },
    {
      "cell_type": "markdown",
      "metadata": {
        "id": "c6ZuRLnKfpq4"
      },
      "source": [
        "# Извлечение признаков"
      ]
    },
    {
      "cell_type": "code",
      "metadata": {
        "id": "JRvlOZZqgwyX"
      },
      "source": [
        "def extract_r2_plus1_features(model, frames) -> np.ndarray:\n",
        "    model_input = np.array(list(map(r2_plus_1_preprocess, frames)))\n",
        "    model_input = tf.signal.frame(model_input, 32, 4, axis=0).numpy()\n",
        "    # (1, 8, 3, 112, 112) - >(1, 3, 8, 112, 112)\n",
        "    model_input = np.transpose(model_input, (0, 2, 1, 3, 4)).astype(np.float32)\n",
        "\n",
        "    features = np.array(list(map(lambda x: extract_from_net(model, x), model_input)))\n",
        "    features = np.array(list(map(lambda x: np.squeeze(x), features)))\n",
        "    return features\n",
        "\n",
        "def extract_from_net(model, frames):\n",
        "    frames = np.expand_dims(frames, 0)\n",
        "    input_tensor = torch.Tensor(frames)\n",
        "    input_tensor = input_tensor.to(device)\n",
        "    name = \"avgpool\"\n",
        "    activation = {}\n",
        "    def get_activation(name):\n",
        "        def hook(model, input, output):\n",
        "            activation[name] = output.detach()\n",
        "        return hook\n",
        "    model.avgpool.register_forward_hook(get_activation(name))\n",
        "    model(input_tensor)\n",
        "    features = activation[name].cpu().numpy()\n",
        "    return features\n",
        "\n",
        "\n",
        "def r2_plus_1_preprocess(frame):\n",
        "    resized = cv2.resize(frame, (112, 112))\n",
        "    resized = np.transpose(resized, (2, 0, 1))\n",
        "    return resized\n",
        "\n",
        "\n",
        "def _preprocess_audio_batch(audio, sr, center=True, hop_size=0.5, TARGET_SR=48000):\n",
        "    \"\"\"Process audio into batch format suitable for input to embedding model \"\"\"\n",
        "    if audio.size == 0:\n",
        "        raise RuntimeError('Got empty audio')\n",
        "\n",
        "    # Check audio array dimension\n",
        "    if audio.ndim > 2:\n",
        "        raise RuntimeError('Audio array can only be be 1D or 2D')\n",
        "\n",
        "    elif audio.ndim == 2:\n",
        "        # Downmix if multichannel\n",
        "        audio = np.mean(audio, axis=1)\n",
        "\n",
        "    if not isinstance(sr, Real) or sr <= 0:\n",
        "        raise RuntimeError('Invalid sample rate {}'.format(sr))\n",
        "\n",
        "    if not isinstance(hop_size, Real) or hop_size <= 0:\n",
        "        raise RuntimeError('Invalid hop size {}'.format(hop_size))\n",
        "\n",
        "    if center not in (True, False):\n",
        "        raise RuntimeError('Invalid center value {}'.format(center))\n",
        "\n",
        "    # Resample if necessary\n",
        "    if sr != TARGET_SR:\n",
        "        audio = resampy.resample(audio, sr_orig=sr, sr_new=TARGET_SR, filter='kaiser_best')\n",
        "\n",
        "    audio_len = audio.size\n",
        "    frame_len = TARGET_SR\n",
        "    hop_len = int(hop_size * TARGET_SR)\n",
        "\n",
        "    if center:\n",
        "        # Center audio\n",
        "        audio = _center_audio(audio, frame_len)\n",
        "\n",
        "    # Pad if necessary to ensure that we process all samples\n",
        "    audio = _pad_audio(audio, frame_len, hop_len)\n",
        "\n",
        "    # Split audio into frames, copied from librosa.util.frame\n",
        "    n_frames = 1 + int((len(audio) - frame_len) / float(hop_len))\n",
        "    x = np.lib.stride_tricks.as_strided(audio, shape=(frame_len, n_frames),\n",
        "                                        strides=(audio.itemsize, audio.itemsize)).T\n",
        "\n",
        "    # Add a channel dimension\n",
        "    x = x.reshape((x.shape[0], 1, x.shape[-1]))\n",
        "    return x\n",
        "\n",
        "\n",
        "\n",
        "def _center_audio(audio, frame_len):\n",
        "    \"\"\"Center audio so that first sample will occur in the middle of the first frame\"\"\"\n",
        "    return np.pad(audio, (int(frame_len / 2.0), 0), mode='constant', constant_values=0)\n",
        "\n",
        "\n",
        "def _pad_audio(audio, frame_len, hop_len):\n",
        "    \"\"\"Pad audio if necessary so that all samples are processed\"\"\"\n",
        "    audio_len = audio.size\n",
        "    if audio_len < frame_len:\n",
        "        pad_length = frame_len - audio_len\n",
        "    else:\n",
        "        pad_length = int(np.ceil((audio_len - frame_len) / float(hop_len))) * hop_len \\\n",
        "                     - (audio_len - frame_len)\n",
        "\n",
        "    if pad_length > 0:\n",
        "        audio = np.pad(audio, (0, pad_length), mode='constant', constant_values=0)\n",
        "\n",
        "    return audio\n",
        "\n",
        "\n",
        "def stand(x):\n",
        "    return (x - np.mean(x) / np.std(x))\n",
        "\n",
        "\n",
        "def _extract_opensmile_features(audio, sr, features_set):\n",
        "    smile = opensmile.Smile(\n",
        "        feature_set=features_set,\n",
        "        feature_level=opensmile.FeatureLevel.Functionals,\n",
        "    )\n",
        "\n",
        "    return np.array(list(map(lambda x: stand(smile.process_signal(np.squeeze(x), sr)), audio)))\n"
      ],
      "execution_count": null,
      "outputs": []
    },
    {
      "cell_type": "code",
      "metadata": {
        "id": "Jg6v0PadyOnX"
      },
      "source": [
        "def extract_l3_features(model, audio) -> np.ndarray:\n",
        "    # model_input = _l3_preprocess_audio(audio, AudioModalityConfig().SR)\n",
        "    return model.predict(audio)\n",
        "\n",
        "\n",
        "def extract_vgg_face_features(model, frames) -> np.ndarray:\n",
        "    return model.predict(frames)\n",
        "\n",
        "def extract_vgg_features(model, frames) -> np.ndarray:\n",
        "    features = model.predict(frames)\n",
        "    return np.reshape(features, (features.shape[0], features.shape[1] * features.shape[2] * features.shape[3]))"
      ],
      "execution_count": null,
      "outputs": []
    },
    {
      "cell_type": "markdown",
      "metadata": {
        "id": "P4Z7Z_OPD0T3"
      },
      "source": [
        "## Face"
      ]
    },
    {
      "cell_type": "code",
      "metadata": {
        "id": "Dt539BMIve8n"
      },
      "source": [
        "def _select_face(frame, face, max_face_w, max_face_h):\n",
        "    # increase face window\n",
        "    x = face[0]\n",
        "    y = face[1]\n",
        "    w = max_face_w\n",
        "    h = max_face_h\n",
        "\n",
        "    return frame[y:y + h, x:x + w]\n",
        "\n",
        "\n",
        "def _process_face_on_frame(frame: np.ndarray, face_model):\n",
        "    gray = cv2.cvtColor(frame, cv2.COLOR_BGR2GRAY)\n",
        "    faces = face_model.detectMultiScale(gray, 1.1, 4)\n",
        "\n",
        "    if len(faces) == 1:\n",
        "        face = faces[0]\n",
        "        return face\n",
        "    elif len(faces) > 1:\n",
        "        face_size = 0\n",
        "        current_face = faces[0]\n",
        "        nearest_face = None\n",
        "        for face in faces:\n",
        "            current_face_size = current_face[2] * current_face[3]\n",
        "            if current_face_size > face_size:\n",
        "                face_size = current_face_size\n",
        "                nearest_face = face\n",
        "        return nearest_face\n",
        "    else:\n",
        "        return None\n",
        "\n",
        "def extract_face(frames, model):\n",
        "  last_face_coords = None\n",
        "  frames_with_face = []\n",
        "  face_coords = [ _process_face_on_frame(f, model) for f in frames]\n",
        "\n",
        "  max_face_w, max_face_h = -1, -1\n",
        "  for i, face_coord in enumerate(face_coords):\n",
        "    if face_coord is not None and face_coord[2] > max_face_w:\n",
        "      max_face_w = face_coord[2]\n",
        "    if face_coord is not None and face_coord[3] > max_face_h:\n",
        "      max_face_h = face_coord[3]\n",
        "      \n",
        "  for i, face_coord in enumerate(face_coords):\n",
        "    if face_coord is None:\n",
        "      if last_face_coords is not None:\n",
        "        frames_with_face.append(cv2.resize(_select_face(frames[i], last_face_coords, max_face_w, max_face_h), (224, 224)))\n",
        "      else:\n",
        "        frames_with_face.append(cv2.resize(np.zeros(frames[i].shape), (224, 224)))\n",
        "    else:\n",
        "      frames_with_face.append(cv2.resize(_select_face(frames[i], face_coord, max_face_w, max_face_h), (224, 224)))\n",
        "      last_face_coords = face_coord\n",
        "\n",
        "  return np.asarray(frames_with_face).astype('float32')"
      ],
      "execution_count": null,
      "outputs": []
    },
    {
      "cell_type": "code",
      "metadata": {
        "id": "hmLMul1N3iG1"
      },
      "source": [
        "def extract_face_and_coords_dict(frames, model):\n",
        "  last_face_coords = None\n",
        "  frames_with_face = []\n",
        "  face_coords = [ _process_face_on_frame(f, model) for f in frames]\n",
        "  res = []\n",
        "  last_face = None\n",
        "  for i, face_coords in enumerate(face_coords):\n",
        "    if face_coords is not None:\n",
        "      res.append(face_coords)\n",
        "      last_face = face_coords\n",
        "    elif last_face is not None:\n",
        "      res.append(last_face)\n",
        "    else:\n",
        "      res.append([0,0,frames[i].shape[0], frames[i].shape[1]])\n",
        "\n",
        "  return np.asarray(frames), np.asarray(res)"
      ],
      "execution_count": null,
      "outputs": []
    },
    {
      "cell_type": "markdown",
      "metadata": {
        "id": "-BhE1bM_D2GI"
      },
      "source": [
        "## Pulse"
      ]
    },
    {
      "cell_type": "code",
      "metadata": {
        "id": "02ONlxQTD32g"
      },
      "source": [
        "from utils.pulse_detection.processors_noopenmdao import findFaceGetPulse\n",
        "\n",
        "class PulseDetector():\n",
        "    flagTest = True\n",
        "    var = 0\n",
        "    mean = 0\n",
        "\n",
        "\n",
        "    def __init__(self):\n",
        "        self.processor = findFaceGetPulse(bpm_limits=[50, 180],\n",
        "                                          data_spike_limit=2500.,\n",
        "                                          face_detector_smoothness=10.0)\n",
        "\n",
        "\n",
        "    def toggle_search(self):\n",
        "        \"\"\"\n",
        "        Toggles a motion lock on the processor's face detection component.\n",
        "        Locking the forehead location in place significantly improves\n",
        "        data quality, once a forehead has been sucessfully isolated.\n",
        "        \"\"\"\n",
        "        state = self.processor.find_faces_toggle()\n",
        "\n",
        "    def main_loop(self, i, frame, coords):\n",
        "    \n",
        "        \"\"\"\n",
        "        Single iteration of the application's main loop.\n",
        "        \"\"\"\n",
        "        img = cv2.cvtColor(frame, cv2.COLOR_BGR2GRAY)\n",
        "        _,thresh = cv2.threshold(img,10,255,cv2.THRESH_BINARY)\n",
        "        contours,hierarchy = cv2.findContours(thresh,cv2.RETR_EXTERNAL,cv2.CHAIN_APPROX_SIMPLE)\n",
        "        if (len(contours) == 0): \n",
        "          return\n",
        "        cnt = contours[0]\n",
        "        x,y,w,h = cv2.boundingRect(cnt)\n",
        "        offset_y = 0\n",
        "        offset_x = 0\n",
        "        self.h, self.w, _c = frame.shape\n",
        "\n",
        "        # set current image frame to the processor's input\n",
        "        self.processor.frame_in = frame\n",
        "        self.processor.coords = [coords]\n",
        "#         # process the image frame to perform all needed analysis\n",
        "        self.processor.run('')\n",
        "#         # collect the output frame for display\n",
        "        output_frame = self.processor.frame_out\n",
        "        \n",
        "        if self.flagTest is True and i > 10:\n",
        "            self.toggle_search()\n",
        "            self.flagTest = False\n",
        "        \n",
        "        if (i % 80 == 0 or i % 81 == 0) and i > 10:\n",
        "            self.toggle_search()\n",
        "            self.flagTest = False\n",
        "        self.var = np.var(self.processor.bpms)\n",
        "        self.mean = np.mean(self.processor.bpms)\n",
        "\n",
        "\n",
        "def get_pulse(frames, coords):\n",
        "    frames = tf.signal.frame(frames, 25, 1, axis=0).numpy()\n",
        "    coords = tf.signal.frame(coords, 25, 1, axis=0).numpy()\n",
        "\n",
        "    result = []\n",
        "    for i in range(len(frames)):\n",
        "      result.append(get_pulse_from_window(frames[i], coords[i]))\n",
        "    return np.array(result)\n",
        "\n",
        "\n",
        "def get_pulse_from_window(frames, coords):\n",
        "  pulse_detector = PulseDetector()\n",
        "  for i, frame in enumerate(frames):\n",
        "    pulse_detector.main_loop(i, frame, coords[i])\n",
        "  res = np.asarray([pulse_detector.var, pulse_detector.mean]).astype(np.float32)\n",
        "  del pulse_detector\n",
        "  return res"
      ],
      "execution_count": null,
      "outputs": []
    },
    {
      "cell_type": "markdown",
      "metadata": {
        "id": "ypa0v0XgZywO"
      },
      "source": [
        "# Обработка"
      ]
    },
    {
      "cell_type": "code",
      "metadata": {
        "id": "o1Zl3Kf9oCpR"
      },
      "source": [
        "WINDOW_LEN_IN_SEC = 10\n",
        "STEP_LEN_IN_SEC = 1"
      ],
      "execution_count": null,
      "outputs": []
    },
    {
      "cell_type": "code",
      "metadata": {
        "colab": {
          "base_uri": "https://localhost:8080/"
        },
        "id": "1IxynukmoDey",
        "outputId": "2b6d39d6-fe9f-48f7-f86b-709e99246632"
      },
      "source": [
        "r2_plus_1_model = get_r2_plus_1_model(PRETRAINED_MODELS)\n",
        "\n",
        "with tf.device('/device:GPU:0'):\n",
        "  l3_model = get_l3_model(PRETRAINED_MODELS)\n",
        "  vgg_model = get_vgg_model()\n",
        "  vgg_face_model = get_vgg_face_model()\n",
        "\n",
        "face_model = cv2.CascadeClassifier('/content/lieDetector/utils/pulse_detection/haarcascade_frontalface_alt.xml')"
      ],
      "execution_count": null,
      "outputs": [
        {
          "output_type": "stream",
          "text": [
            "/usr/local/lib/python3.7/dist-packages/librosa/filters.py:239: UserWarning: Empty filters detected in mel frequency basis. Some channels will produce empty responses. Try increasing your sampling rate (and fmax) or reducing n_mels.\n",
            "  \"Empty filters detected in mel frequency basis. \"\n"
          ],
          "name": "stderr"
        }
      ]
    },
    {
      "cell_type": "code",
      "metadata": {
        "id": "JACykwPNSKNW"
      },
      "source": [
        "def _process_audio_modality(filename: str, offset: float, duration: float, modality) -> dict:\n",
        "    features_by_name = {}\n",
        "    audio_raw, audio_raw_rate = lb.load(filename, offset=offset, duration=duration, sr=48000)\n",
        "    audio = _apply_window_to_signal(audio_raw, 48000, WINDOW_LEN_IN_SEC, STEP_LEN_IN_SEC)\n",
        "    features_by_name[DatasetFeaturesSet.AUDIO] = audio\n",
        "    print(f\"[INFO][{filename}][Audio] Complete audio: shape:={features_by_name[DatasetFeaturesSet.AUDIO].shape}\")\n",
        "    return features_by_name\n",
        "\n",
        "\n",
        "def _process_video_scene_modality(frames: list, fps, example: str, offset: float, duration: float,\n",
        "                                  modality) -> dict:\n",
        "    print(f\"[INFO][{example}] Preprocess video input\")\n",
        "    sparse_frames = extract_frames_from_video_with_fps(frames, fps, example, offset, duration, modality)\n",
        "    sparse_frames = _apply_window_to_signal(sparse_frames, modality.config.FPS, WINDOW_LEN_IN_SEC, STEP_LEN_IN_SEC)\n",
        "    return {\n",
        "        DatasetFeaturesSet.VIDEO_FACE: sparse_frames\n",
        "    }\n",
        "\n",
        "\n",
        "def _process_video_face_modality(frames: list, fps, example: str, offset: float, duration: float,\n",
        "                                 modality) -> dict:\n",
        "    print(f\"[INFO][{example}] Preprocess video face input\")\n",
        "    sparse_frames = extract_frames_from_video_with_fps(frames, fps, example, offset, duration, modality)\n",
        "    sparse_frames = extract_face(sparse_frames, face_model)\n",
        "    sparse_frames = _apply_window_to_signal(sparse_frames, modality.config.FPS, WINDOW_LEN_IN_SEC, STEP_LEN_IN_SEC)\n",
        "    return {\n",
        "        DatasetFeaturesSet.VIDEO_SCENE: sparse_frames\n",
        "    }\n",
        "\n",
        "\n",
        "def _process_pulse_modality(frames: list, fps, example: str, offset: float, duration: float,\n",
        "                            modality) -> dict:\n",
        "    print(f\"[INFO][{example}] Preprocess pulse input\")\n",
        "    sparse_frames = extract_frames_from_video_with_fps(frames, fps, example, offset, duration, modality)\n",
        "    sparse_frames, coords = extract_face_and_coords_dict(sparse_frames, face_model)\n",
        "    sparse_frames = _apply_window_to_signal(sparse_frames, modality.config.FPS, WINDOW_LEN_IN_SEC, STEP_LEN_IN_SEC)\n",
        "    coords = _apply_window_to_signal(coords, modality.config.FPS, WINDOW_LEN_IN_SEC, STEP_LEN_IN_SEC)\n",
        "\n",
        "    return {\n",
        "        DatasetFeaturesSet.PULSE: sparse_frames,\n",
        "        'coords': coords\n",
        "    }\n",
        "\n",
        "\n",
        "def _apply_window_to_signal(signal, elements_per_sec, window_len_sec, step_len_sec) -> np.ndarray:\n",
        "    min_allowed_elements = window_len_sec * elements_per_sec\n",
        "\n",
        "    if signal.shape[0] < min_allowed_elements:\n",
        "        pad = np.zeros((len(signal.shape), 2), dtype=int)\n",
        "        pad[0][1] = min_allowed_elements - signal.shape[0]\n",
        "        signal = np.pad(signal.astype(np.float32), pad, 'constant')\n",
        "    return tf.signal.frame(signal, elements_per_sec * window_len_sec, elements_per_sec * step_len_sec, axis=0).numpy()\n",
        "\n",
        "\n",
        "def _extract_features_from_data(filename, data_from_window) -> dict:\n",
        "    with tf.device('/device:GPU:0'):\n",
        "        features_by_name = {}\n",
        "\n",
        "        # Face\n",
        "        print(f'[{filename}] Extracting features ...')\n",
        "        features_by_name[DatasetFeaturesSet.VIDEO_FACE] = extract_vgg_face_features(vgg_face_model, data_from_window[DatasetFeaturesSet.VIDEO_FACE])\n",
        "        print(f'[{filename}] Extracting vgg face: shape:={features_by_name[DatasetFeaturesSet.VIDEO_FACE].shape}')\n",
        "\n",
        "        # Scene\n",
        "        scene_features_r2 = extract_r2_plus1_features(r2_plus_1_model,\n",
        "                                                      data_from_window[DatasetFeaturesSet.VIDEO_SCENE])\n",
        "        print(f'[{filename}] Extracting r2_plus1_features features: shape:={scene_features_r2.shape}')\n",
        "        features_by_name[DatasetFeaturesSet.VIDEO_SCENE_R2PLUS1_FEATURES] = scene_features_r2\n",
        "\n",
        "        features_by_name[DatasetFeaturesSet.VIDEO_SCENE] = extract_vgg_features(vgg_model, data_from_window[DatasetFeaturesSet.VIDEO_SCENE])\n",
        "        print(f'[{filename}] Extracting scene features: shape:={features_by_name[DatasetFeaturesSet.VIDEO_SCENE].shape}')\n",
        "\n",
        "        # Audio\n",
        "        preprocessed_audio = _preprocess_audio_batch(data_from_window[DatasetFeaturesSet.AUDIO], 48000)\n",
        "        features_by_name[DatasetFeaturesSet.AUDIO] = extract_l3_features(l3_model, preprocessed_audio)\n",
        "        print(f'[{filename}] Extracting audio l3 features: shape:={features_by_name[DatasetFeaturesSet.AUDIO].shape}')\n",
        "\n",
        "        pulse_features = get_pulse(data_from_window[DatasetFeaturesSet.PULSE], data_from_window['coords'])\n",
        "        print(f'[{filename}] Extracting pulse_features features: shape:={pulse_features.shape}')\n",
        "        features_by_name[DatasetFeaturesSet.PULSE] = np.expand_dims(np.nan_to_num(pulse_features).astype(np.float32), -1)\n",
        "\n",
        "    return features_by_name\n",
        "\n",
        "\n",
        "def _encode_example(features_by_name, clazz):\n",
        "    tf_features_dict = {}\n",
        "    for modality, feature in features_by_name.items():\n",
        "        tf_features_dict[str(modality.name)] = modality.encoder.transform(feature.astype(np.float32))\n",
        "\n",
        "    tf_features_dict[DatasetFeaturesSet.CLASS.name] = DatasetFeaturesSet.CLASS.encoder.transform(\n",
        "        clazz.astype(np.float32))\n",
        "\n",
        "    example = tf.train.Example(features=tf.train.Features(feature=tf_features_dict))\n",
        "    return example.SerializeToString()"
      ],
      "execution_count": null,
      "outputs": []
    },
    {
      "cell_type": "code",
      "metadata": {
        "id": "Tju2OMk_88N3"
      },
      "source": [
        "audio_file_path  = '/content/drive/MyDrive/garold.wav'\n",
        "video_file_path  = '/content/drive/MyDrive/garold.mp4'"
      ],
      "execution_count": null,
      "outputs": []
    },
    {
      "cell_type": "code",
      "metadata": {
        "colab": {
          "base_uri": "https://localhost:8080/"
        },
        "id": "A65fE-Hx6NLY",
        "outputId": "5d15e508-e450-4d4b-93d3-cb770f2fc555"
      },
      "source": [
        "features = []\n",
        "offset = 0\n",
        "video_frames, video_fps = None, 0\n",
        "\n",
        "\n",
        "data_by_window = {}\n",
        "\n",
        "duration = 30\n",
        "video_frames, video_fps = open_video(video_file_path)\n",
        "video_frames = np.asarray(video_frames)[int(video_fps * 25):int(video_fps * 55),]\n",
        "print(video_frames.shape)\n",
        "data_by_window.update(_process_audio_modality(audio_file_path, offset, duration, Modality.AUDIO))\n",
        "data_by_window.update(_process_video_scene_modality(video_frames, video_fps,\n",
        "                                                    video_file_path, offset,\n",
        "                                                    duration, Modality.VIDEO_SCENE))\n",
        "data_by_window.update(_process_video_face_modality(video_frames, video_fps,\n",
        "                                                   video_file_path, offset,\n",
        "                                                   duration, Modality.VIDEO_FACE))\n",
        "data_by_window.update(_process_pulse_modality(video_frames, video_fps,\n",
        "                                              video_file_path, offset,\n",
        "                                              duration, Modality.PULSE))\n",
        "\n",
        "windows_of_data = [dict(zip(data_by_window, t)) for t in zip(*data_by_window.values())]\n",
        "for i, data_from_window in enumerate(windows_of_data):\n",
        "    print(f'[{video_file_path}] Saving window position... #{i}')\n",
        "    features_dict = _extract_features_from_data(video_file_path, data_from_window)\n",
        "    features.append(features_dict)"
      ],
      "execution_count": null,
      "outputs": [
        {
          "output_type": "stream",
          "text": [
            "(750, 224, 224, 3)\n",
            "[INFO][/content/drive/MyDrive/garold.wav][Audio] Complete audio: shape:=(21, 480000)\n",
            "[INFO][/content/drive/MyDrive/garold.mp4] Preprocess video input\n",
            "[INFO][/content/drive/MyDrive/garold.mp4] video frames_period:=1, period_res:=211\n",
            "[INFO][/content/drive/MyDrive/garold.mp4] Preprocess video face input\n",
            "[INFO][/content/drive/MyDrive/garold.mp4] video frames_period:=1, period_res:=211\n",
            "[INFO][/content/drive/MyDrive/garold.mp4] Preprocess pulse input\n",
            "[INFO][/content/drive/MyDrive/garold.mp4] video frames_period:=1, period_res:=751\n",
            "[/content/drive/MyDrive/garold.mp4] Saving window position... #0\n",
            "[/content/drive/MyDrive/garold.mp4] Extracting features ...\n",
            "[/content/drive/MyDrive/garold.mp4] Extracting vgg face: shape:=(320, 512)\n",
            "[/content/drive/MyDrive/garold.mp4] Extracting r2_plus1_features features: shape:=(73, 512)\n",
            "[/content/drive/MyDrive/garold.mp4] Extracting scene features: shape:=(320, 25088)\n",
            "[/content/drive/MyDrive/garold.mp4] Extracting audio l3 features: shape:=(20, 512)\n"
          ],
          "name": "stdout"
        },
        {
          "output_type": "stream",
          "text": [
            "/usr/local/lib/python3.7/dist-packages/numpy/core/fromnumeric.py:3622: RuntimeWarning: Degrees of freedom <= 0 for slice\n",
            "  **kwargs)\n",
            "/usr/local/lib/python3.7/dist-packages/numpy/core/_methods.py:195: RuntimeWarning: invalid value encountered in true_divide\n",
            "  arrmean, rcount, out=arrmean, casting='unsafe', subok=False)\n",
            "/usr/local/lib/python3.7/dist-packages/numpy/core/_methods.py:226: RuntimeWarning: invalid value encountered in double_scalars\n",
            "  ret = ret.dtype.type(ret / rcount)\n",
            "/usr/local/lib/python3.7/dist-packages/numpy/core/fromnumeric.py:3373: RuntimeWarning: Mean of empty slice.\n",
            "  out=out, **kwargs)\n",
            "/usr/local/lib/python3.7/dist-packages/numpy/core/_methods.py:170: RuntimeWarning: invalid value encountered in double_scalars\n",
            "  ret = ret.dtype.type(ret / rcount)\n"
          ],
          "name": "stderr"
        },
        {
          "output_type": "stream",
          "text": [
            "[/content/drive/MyDrive/garold.mp4] Extracting pulse_features features: shape:=(476, 2)\n",
            "[/content/drive/MyDrive/garold.mp4] Saving window position... #1\n",
            "[/content/drive/MyDrive/garold.mp4] Extracting features ...\n",
            "[/content/drive/MyDrive/garold.mp4] Extracting vgg face: shape:=(320, 512)\n",
            "[/content/drive/MyDrive/garold.mp4] Extracting r2_plus1_features features: shape:=(73, 512)\n",
            "[/content/drive/MyDrive/garold.mp4] Extracting scene features: shape:=(320, 25088)\n",
            "[/content/drive/MyDrive/garold.mp4] Extracting audio l3 features: shape:=(20, 512)\n",
            "[/content/drive/MyDrive/garold.mp4] Extracting pulse_features features: shape:=(476, 2)\n",
            "[/content/drive/MyDrive/garold.mp4] Saving window position... #2\n",
            "[/content/drive/MyDrive/garold.mp4] Extracting features ...\n",
            "[/content/drive/MyDrive/garold.mp4] Extracting vgg face: shape:=(320, 512)\n",
            "[/content/drive/MyDrive/garold.mp4] Extracting r2_plus1_features features: shape:=(73, 512)\n",
            "[/content/drive/MyDrive/garold.mp4] Extracting scene features: shape:=(320, 25088)\n",
            "[/content/drive/MyDrive/garold.mp4] Extracting audio l3 features: shape:=(20, 512)\n",
            "[/content/drive/MyDrive/garold.mp4] Extracting pulse_features features: shape:=(476, 2)\n",
            "[/content/drive/MyDrive/garold.mp4] Saving window position... #3\n",
            "[/content/drive/MyDrive/garold.mp4] Extracting features ...\n",
            "[/content/drive/MyDrive/garold.mp4] Extracting vgg face: shape:=(320, 512)\n",
            "[/content/drive/MyDrive/garold.mp4] Extracting r2_plus1_features features: shape:=(73, 512)\n",
            "[/content/drive/MyDrive/garold.mp4] Extracting scene features: shape:=(320, 25088)\n",
            "[/content/drive/MyDrive/garold.mp4] Extracting audio l3 features: shape:=(20, 512)\n",
            "[/content/drive/MyDrive/garold.mp4] Extracting pulse_features features: shape:=(476, 2)\n",
            "[/content/drive/MyDrive/garold.mp4] Saving window position... #4\n",
            "[/content/drive/MyDrive/garold.mp4] Extracting features ...\n",
            "[/content/drive/MyDrive/garold.mp4] Extracting vgg face: shape:=(320, 512)\n",
            "[/content/drive/MyDrive/garold.mp4] Extracting r2_plus1_features features: shape:=(73, 512)\n",
            "[/content/drive/MyDrive/garold.mp4] Extracting scene features: shape:=(320, 25088)\n",
            "[/content/drive/MyDrive/garold.mp4] Extracting audio l3 features: shape:=(20, 512)\n",
            "[/content/drive/MyDrive/garold.mp4] Extracting pulse_features features: shape:=(476, 2)\n",
            "[/content/drive/MyDrive/garold.mp4] Saving window position... #5\n",
            "[/content/drive/MyDrive/garold.mp4] Extracting features ...\n",
            "[/content/drive/MyDrive/garold.mp4] Extracting vgg face: shape:=(320, 512)\n",
            "[/content/drive/MyDrive/garold.mp4] Extracting r2_plus1_features features: shape:=(73, 512)\n",
            "[/content/drive/MyDrive/garold.mp4] Extracting scene features: shape:=(320, 25088)\n",
            "[/content/drive/MyDrive/garold.mp4] Extracting audio l3 features: shape:=(20, 512)\n",
            "[/content/drive/MyDrive/garold.mp4] Extracting pulse_features features: shape:=(476, 2)\n",
            "[/content/drive/MyDrive/garold.mp4] Saving window position... #6\n",
            "[/content/drive/MyDrive/garold.mp4] Extracting features ...\n",
            "[/content/drive/MyDrive/garold.mp4] Extracting vgg face: shape:=(320, 512)\n",
            "[/content/drive/MyDrive/garold.mp4] Extracting r2_plus1_features features: shape:=(73, 512)\n",
            "[/content/drive/MyDrive/garold.mp4] Extracting scene features: shape:=(320, 25088)\n",
            "[/content/drive/MyDrive/garold.mp4] Extracting audio l3 features: shape:=(20, 512)\n",
            "[/content/drive/MyDrive/garold.mp4] Extracting pulse_features features: shape:=(476, 2)\n",
            "[/content/drive/MyDrive/garold.mp4] Saving window position... #7\n",
            "[/content/drive/MyDrive/garold.mp4] Extracting features ...\n",
            "[/content/drive/MyDrive/garold.mp4] Extracting vgg face: shape:=(320, 512)\n",
            "[/content/drive/MyDrive/garold.mp4] Extracting r2_plus1_features features: shape:=(73, 512)\n",
            "[/content/drive/MyDrive/garold.mp4] Extracting scene features: shape:=(320, 25088)\n",
            "[/content/drive/MyDrive/garold.mp4] Extracting audio l3 features: shape:=(20, 512)\n",
            "[/content/drive/MyDrive/garold.mp4] Extracting pulse_features features: shape:=(476, 2)\n",
            "[/content/drive/MyDrive/garold.mp4] Saving window position... #8\n",
            "[/content/drive/MyDrive/garold.mp4] Extracting features ...\n",
            "[/content/drive/MyDrive/garold.mp4] Extracting vgg face: shape:=(320, 512)\n",
            "[/content/drive/MyDrive/garold.mp4] Extracting r2_plus1_features features: shape:=(73, 512)\n",
            "[/content/drive/MyDrive/garold.mp4] Extracting scene features: shape:=(320, 25088)\n",
            "[/content/drive/MyDrive/garold.mp4] Extracting audio l3 features: shape:=(20, 512)\n",
            "[/content/drive/MyDrive/garold.mp4] Extracting pulse_features features: shape:=(476, 2)\n",
            "[/content/drive/MyDrive/garold.mp4] Saving window position... #9\n",
            "[/content/drive/MyDrive/garold.mp4] Extracting features ...\n",
            "[/content/drive/MyDrive/garold.mp4] Extracting vgg face: shape:=(320, 512)\n",
            "[/content/drive/MyDrive/garold.mp4] Extracting r2_plus1_features features: shape:=(73, 512)\n",
            "[/content/drive/MyDrive/garold.mp4] Extracting scene features: shape:=(320, 25088)\n",
            "[/content/drive/MyDrive/garold.mp4] Extracting audio l3 features: shape:=(20, 512)\n",
            "[/content/drive/MyDrive/garold.mp4] Extracting pulse_features features: shape:=(476, 2)\n",
            "[/content/drive/MyDrive/garold.mp4] Saving window position... #10\n",
            "[/content/drive/MyDrive/garold.mp4] Extracting features ...\n",
            "[/content/drive/MyDrive/garold.mp4] Extracting vgg face: shape:=(320, 512)\n",
            "[/content/drive/MyDrive/garold.mp4] Extracting r2_plus1_features features: shape:=(73, 512)\n",
            "[/content/drive/MyDrive/garold.mp4] Extracting scene features: shape:=(320, 25088)\n",
            "[/content/drive/MyDrive/garold.mp4] Extracting audio l3 features: shape:=(20, 512)\n",
            "[/content/drive/MyDrive/garold.mp4] Extracting pulse_features features: shape:=(476, 2)\n",
            "[/content/drive/MyDrive/garold.mp4] Saving window position... #11\n",
            "[/content/drive/MyDrive/garold.mp4] Extracting features ...\n",
            "[/content/drive/MyDrive/garold.mp4] Extracting vgg face: shape:=(320, 512)\n",
            "[/content/drive/MyDrive/garold.mp4] Extracting r2_plus1_features features: shape:=(73, 512)\n",
            "[/content/drive/MyDrive/garold.mp4] Extracting scene features: shape:=(320, 25088)\n",
            "[/content/drive/MyDrive/garold.mp4] Extracting audio l3 features: shape:=(20, 512)\n",
            "[/content/drive/MyDrive/garold.mp4] Extracting pulse_features features: shape:=(476, 2)\n",
            "[/content/drive/MyDrive/garold.mp4] Saving window position... #12\n",
            "[/content/drive/MyDrive/garold.mp4] Extracting features ...\n",
            "[/content/drive/MyDrive/garold.mp4] Extracting vgg face: shape:=(320, 512)\n",
            "[/content/drive/MyDrive/garold.mp4] Extracting r2_plus1_features features: shape:=(73, 512)\n",
            "[/content/drive/MyDrive/garold.mp4] Extracting scene features: shape:=(320, 25088)\n",
            "[/content/drive/MyDrive/garold.mp4] Extracting audio l3 features: shape:=(20, 512)\n",
            "[/content/drive/MyDrive/garold.mp4] Extracting pulse_features features: shape:=(476, 2)\n",
            "[/content/drive/MyDrive/garold.mp4] Saving window position... #13\n",
            "[/content/drive/MyDrive/garold.mp4] Extracting features ...\n",
            "[/content/drive/MyDrive/garold.mp4] Extracting vgg face: shape:=(320, 512)\n",
            "[/content/drive/MyDrive/garold.mp4] Extracting r2_plus1_features features: shape:=(73, 512)\n",
            "[/content/drive/MyDrive/garold.mp4] Extracting scene features: shape:=(320, 25088)\n",
            "[/content/drive/MyDrive/garold.mp4] Extracting audio l3 features: shape:=(20, 512)\n",
            "[/content/drive/MyDrive/garold.mp4] Extracting pulse_features features: shape:=(476, 2)\n",
            "[/content/drive/MyDrive/garold.mp4] Saving window position... #14\n",
            "[/content/drive/MyDrive/garold.mp4] Extracting features ...\n",
            "[/content/drive/MyDrive/garold.mp4] Extracting vgg face: shape:=(320, 512)\n",
            "[/content/drive/MyDrive/garold.mp4] Extracting r2_plus1_features features: shape:=(73, 512)\n",
            "[/content/drive/MyDrive/garold.mp4] Extracting scene features: shape:=(320, 25088)\n",
            "[/content/drive/MyDrive/garold.mp4] Extracting audio l3 features: shape:=(20, 512)\n",
            "[/content/drive/MyDrive/garold.mp4] Extracting pulse_features features: shape:=(476, 2)\n",
            "[/content/drive/MyDrive/garold.mp4] Saving window position... #15\n",
            "[/content/drive/MyDrive/garold.mp4] Extracting features ...\n",
            "[/content/drive/MyDrive/garold.mp4] Extracting vgg face: shape:=(320, 512)\n",
            "[/content/drive/MyDrive/garold.mp4] Extracting r2_plus1_features features: shape:=(73, 512)\n",
            "[/content/drive/MyDrive/garold.mp4] Extracting scene features: shape:=(320, 25088)\n",
            "[/content/drive/MyDrive/garold.mp4] Extracting audio l3 features: shape:=(20, 512)\n",
            "[/content/drive/MyDrive/garold.mp4] Extracting pulse_features features: shape:=(476, 2)\n",
            "[/content/drive/MyDrive/garold.mp4] Saving window position... #16\n",
            "[/content/drive/MyDrive/garold.mp4] Extracting features ...\n",
            "[/content/drive/MyDrive/garold.mp4] Extracting vgg face: shape:=(320, 512)\n",
            "[/content/drive/MyDrive/garold.mp4] Extracting r2_plus1_features features: shape:=(73, 512)\n",
            "[/content/drive/MyDrive/garold.mp4] Extracting scene features: shape:=(320, 25088)\n",
            "[/content/drive/MyDrive/garold.mp4] Extracting audio l3 features: shape:=(20, 512)\n",
            "[/content/drive/MyDrive/garold.mp4] Extracting pulse_features features: shape:=(476, 2)\n",
            "[/content/drive/MyDrive/garold.mp4] Saving window position... #17\n",
            "[/content/drive/MyDrive/garold.mp4] Extracting features ...\n",
            "[/content/drive/MyDrive/garold.mp4] Extracting vgg face: shape:=(320, 512)\n",
            "[/content/drive/MyDrive/garold.mp4] Extracting r2_plus1_features features: shape:=(73, 512)\n",
            "[/content/drive/MyDrive/garold.mp4] Extracting scene features: shape:=(320, 25088)\n",
            "[/content/drive/MyDrive/garold.mp4] Extracting audio l3 features: shape:=(20, 512)\n",
            "[/content/drive/MyDrive/garold.mp4] Extracting pulse_features features: shape:=(476, 2)\n",
            "[/content/drive/MyDrive/garold.mp4] Saving window position... #18\n",
            "[/content/drive/MyDrive/garold.mp4] Extracting features ...\n",
            "[/content/drive/MyDrive/garold.mp4] Extracting vgg face: shape:=(320, 512)\n",
            "[/content/drive/MyDrive/garold.mp4] Extracting r2_plus1_features features: shape:=(73, 512)\n",
            "[/content/drive/MyDrive/garold.mp4] Extracting scene features: shape:=(320, 25088)\n",
            "[/content/drive/MyDrive/garold.mp4] Extracting audio l3 features: shape:=(20, 512)\n",
            "[/content/drive/MyDrive/garold.mp4] Extracting pulse_features features: shape:=(476, 2)\n",
            "[/content/drive/MyDrive/garold.mp4] Saving window position... #19\n",
            "[/content/drive/MyDrive/garold.mp4] Extracting features ...\n",
            "[/content/drive/MyDrive/garold.mp4] Extracting vgg face: shape:=(320, 512)\n",
            "[/content/drive/MyDrive/garold.mp4] Extracting r2_plus1_features features: shape:=(73, 512)\n",
            "[/content/drive/MyDrive/garold.mp4] Extracting scene features: shape:=(320, 25088)\n",
            "[/content/drive/MyDrive/garold.mp4] Extracting audio l3 features: shape:=(20, 512)\n",
            "[/content/drive/MyDrive/garold.mp4] Extracting pulse_features features: shape:=(476, 2)\n",
            "[/content/drive/MyDrive/garold.mp4] Saving window position... #20\n",
            "[/content/drive/MyDrive/garold.mp4] Extracting features ...\n",
            "[/content/drive/MyDrive/garold.mp4] Extracting vgg face: shape:=(320, 512)\n",
            "[/content/drive/MyDrive/garold.mp4] Extracting r2_plus1_features features: shape:=(73, 512)\n",
            "[/content/drive/MyDrive/garold.mp4] Extracting scene features: shape:=(320, 25088)\n",
            "[/content/drive/MyDrive/garold.mp4] Extracting audio l3 features: shape:=(20, 512)\n",
            "[/content/drive/MyDrive/garold.mp4] Extracting pulse_features features: shape:=(476, 2)\n"
          ],
          "name": "stdout"
        }
      ]
    },
    {
      "cell_type": "code",
      "metadata": {
        "id": "VY1gRadFdwuc"
      },
      "source": [
        "CHECKPOINT_NAME = \"cp-{epoch:04d}.ckpt\""
      ],
      "execution_count": null,
      "outputs": []
    },
    {
      "cell_type": "markdown",
      "metadata": {
        "id": "R0LxeWUGwayf"
      },
      "source": [
        "## Предсказание"
      ]
    },
    {
      "cell_type": "code",
      "metadata": {
        "id": "g4WVHXaofZML"
      },
      "source": [
        "from kapre.time_frequency import Melspectrogram\n",
        "from keras_vggface import VGGFace\n",
        "\n",
        "from base.base_model import BaseModel\n",
        "import tensorflow as tf\n",
        "\n",
        "from configs.dataset.modality import DatasetFeaturesSet\n",
        "from models.layers.fusion.concatenation_fusion_layer import ConcatenationFusionLayer\n",
        "from models.layers.fusion.fbr_fusion_layer import FactorizedPoolingFusionLayer\n",
        "from models.layers.fusion.sum_fusion_layer import SumFusionLayer\n",
        "\n",
        "\n",
        "class MultimodalModel(BaseModel):\n",
        "\n",
        "    def __init__(self,\n",
        "                 modalities_list,\n",
        "                 fc_units,\n",
        "                 first_layer,\n",
        "                 second_layer,\n",
        "                 cp_dir: str,\n",
        "                 cp_name: str,\n",
        "                 fusion_type='sum',\n",
        "                 dropout=0.1,\n",
        "                 log_and_save_freq_batch: int = 100,\n",
        "                 learning_rate: float = 0.001,\n",
        "                 trained: bool = False):\n",
        "\n",
        "        self._modalities_list = modalities_list\n",
        "        self._learning_rate = learning_rate\n",
        "\n",
        "        self._optimizer = tf.keras.optimizers.Adam\n",
        "\n",
        "        self._lstm_units_first_layer = first_layer\n",
        "        self._lstm_units_second_layer = second_layer\n",
        "        self._activation = 'relu'\n",
        "        self._fc_units = fc_units\n",
        "        self._dropout = dropout\n",
        "        self._pooling_size = 4\n",
        "        self.train_model, self.test_model = self._build_model(fusion_type)\n",
        "        self.model = self.test_model if trained else self.train_model\n",
        "\n",
        "        super(MultimodalModel, self).__init__(cp_dir=cp_dir,\n",
        "                                              cp_name=cp_name,\n",
        "                                              save_freq=log_and_save_freq_batch,\n",
        "                                              model=self.model)\n",
        "\n",
        "    def _build_model(self, fusion_type):\n",
        "        if fusion_type == 'sum':\n",
        "            return self._build_sum_fusion_model()\n",
        "        if fusion_type == 'concatenation':\n",
        "            return self._build_concatenation_fusion_model()\n",
        "        elif fusion_type == 'fbp':\n",
        "            return self._build_fbp_fusion_model()\n",
        "\n",
        "    def _build_sum_fusion_model(self):\n",
        "        inputs = self._build_multimodal_input()\n",
        "        intra_modality_features = []\n",
        "        for i, modality in enumerate(self._modalities_list):\n",
        "            if modality == DatasetFeaturesSet.PULSE:\n",
        "                intra_modality_features.append(self.pulse_conv_net(inputs[i]))\n",
        "            else:\n",
        "                intra_modality_features.append(inputs[i])\n",
        "        intra_modality_outputs = self._build_LSTM_block(intra_modality_features)\n",
        "        fusion_output = SumFusionLayer()(intra_modality_outputs)\n",
        "        output_tensor = self._build_classification_layer(fusion_output)\n",
        "\n",
        "        model = tf.keras.Model(inputs=inputs, outputs=output_tensor)\n",
        "        model.summary()\n",
        "        return model, model\n",
        "\n",
        "    def _build_concatenation_fusion_model(self):\n",
        "        inputs = self._build_multimodal_input()\n",
        "        intra_modality_features = []\n",
        "        for i, modality in enumerate(self._modalities_list):\n",
        "            if modality == DatasetFeaturesSet.PULSE:\n",
        "                intra_modality_features.append(self.pulse_conv_net(inputs[i]))\n",
        "            else:\n",
        "                intra_modality_features.append(inputs[i])\n",
        "        intra_modality_outputs = self._build_LSTM_block(intra_modality_features)\n",
        "        fusion_output = ConcatenationFusionLayer(self._lstm_units_second_layer, len(self._modalities_list))(\n",
        "            intra_modality_outputs)\n",
        "        output_tensor = self._build_classification_layer(fusion_output)\n",
        "\n",
        "        model = tf.keras.Model(inputs=inputs, outputs=output_tensor)\n",
        "        model.summary()\n",
        "        return model, model\n",
        "\n",
        "    def _build_fbp_fusion_model(self):\n",
        "        inputs = self._build_multimodal_input()\n",
        "        print(inputs)\n",
        "        intra_modality_features = []\n",
        "        for i, modality in enumerate(self._modalities_list):\n",
        "            if modality == DatasetFeaturesSet.PULSE:\n",
        "                intra_modality_features.append(self.pulse_conv_net(inputs[i]))\n",
        "            else:\n",
        "                intra_modality_features.append(inputs[i])\n",
        "        intra_modality_outputs = self._build_LSTM_block(intra_modality_features)\n",
        "        fusion_output = FactorizedPoolingFusionLayer(self._dropout, self._pooling_size)(intra_modality_outputs)\n",
        "        output_tensor = self._build_classification_layer(fusion_output)\n",
        "\n",
        "        model = tf.keras.Model(inputs=inputs, outputs=output_tensor)\n",
        "        model.summary()\n",
        "        return model, model\n",
        "\n",
        "    def get_train_model(self):\n",
        "        metrics = ['accuracy', tf.keras.metrics.Precision(), tf.keras.metrics.Recall(),\n",
        "                   tf.keras.metrics.AUC()]\n",
        "        self.train_model.compile(\n",
        "            optimizer=self._optimizer(learning_rate=self._learning_rate),\n",
        "            loss=tf.keras.losses.BinaryCrossentropy(),\n",
        "            metrics=metrics\n",
        "        )\n",
        "        return self.train_model\n",
        "\n",
        "    def get_test_model(self):\n",
        "        return self.test_model\n",
        "\n",
        "    def apply_lstm(self, x):\n",
        "        x = tf.keras.layers.LSTM(units=self._lstm_units_first_layer, return_sequences=True)(x)\n",
        "        x = tf.keras.layers.LSTM(units=self._lstm_units_second_layer)(x)\n",
        "        return x\n",
        "\n",
        "    def pulse_conv_net(self, input_tensor):\n",
        "        x = tf.keras.layers.Conv2D(16,\n",
        "                                   kernel_size=(input_tensor.shape[1] // 2, 2),\n",
        "                                   strides=(2, 1),\n",
        "                                   activation=self._activation)(input_tensor)\n",
        "        x = tf.keras.layers.MaxPool2D(pool_size=(2, 1))(x)\n",
        "        x = tf.keras.layers.Reshape((x.shape[1], 16))(x)\n",
        "        return x\n",
        "\n",
        "    def _build_multimodal_input(self):\n",
        "        return [tf.keras.layers.Input(shape=modality.config.input_shape) for modality in self._modalities_list]\n",
        "\n",
        "    def _build_classification_layer(self, features):\n",
        "        x = tf.keras.layers.Dense(units=self._fc_units, activation=self._activation)(features)\n",
        "        return tf.keras.layers.Dense(units=1, activation='sigmoid')(x)\n",
        "\n",
        "    def _build_LSTM_block(self, inputs):\n",
        "        outputs = []\n",
        "        for i in range(0, len(inputs)):\n",
        "            outputs.append(self.apply_lstm(inputs[i]))\n",
        "\n",
        "        return tf.stack(outputs, axis=1)\n"
      ],
      "execution_count": null,
      "outputs": []
    },
    {
      "cell_type": "code",
      "metadata": {
        "colab": {
          "base_uri": "https://localhost:8080/"
        },
        "id": "eP1lbqhpE5SC",
        "outputId": "9948802c-4a45-4c38-cce4-fbc1a085e7d6"
      },
      "source": [
        "modalities = [\n",
        "        DatasetFeaturesSet.VIDEO_FACE,\n",
        "        DatasetFeaturesSet.AUDIO,\n",
        "        DatasetFeaturesSet.PULSE,\n",
        "        DatasetFeaturesSet.VIDEO_SCENE,\n",
        "    ]\n",
        "\n",
        "model = MultimodalModel(\n",
        "    fusion_type='fbp',\n",
        "    modalities_list=modalities,\n",
        "    dropout=0.2,\n",
        "    fc_units=48,\n",
        "    first_layer=128,\n",
        "    second_layer=64,\n",
        "    learning_rate=tf.keras.optimizers.schedules.ExponentialDecay(0.0001 * 0.1, decay_steps=2000, decay_rate=0.9, staircase=True),\n",
        "    cp_dir=\"/content/drive/MyDrive/deception_dataset/experiments/multimodal_deception_pulse/checkpoint/fbp_VIDEO_FACE\",\n",
        "    trained=True,\n",
        "    cp_name=CHECKPOINT_NAME\n",
        ")"
      ],
      "execution_count": null,
      "outputs": [
        {
          "output_type": "stream",
          "text": [
            "[<KerasTensor: shape=(None, 320, 512) dtype=float32 (created by layer 'input_2')>, <KerasTensor: shape=(None, 20, 512) dtype=float32 (created by layer 'input_3')>, <KerasTensor: shape=(None, 476, 2, 1) dtype=float32 (created by layer 'input_4')>, <KerasTensor: shape=(None, 320, 25088) dtype=float32 (created by layer 'input_5')>]\n",
            "Model: \"model\"\n",
            "__________________________________________________________________________________________________\n",
            "Layer (type)                    Output Shape         Param #     Connected to                     \n",
            "==================================================================================================\n",
            "input_4 (InputLayer)            [(None, 476, 2, 1)]  0                                            \n",
            "__________________________________________________________________________________________________\n",
            "conv2d (Conv2D)                 (None, 120, 1, 16)   7632        input_4[0][0]                    \n",
            "__________________________________________________________________________________________________\n",
            "max_pooling2d (MaxPooling2D)    (None, 60, 1, 16)    0           conv2d[0][0]                     \n",
            "__________________________________________________________________________________________________\n",
            "input_2 (InputLayer)            [(None, 320, 512)]   0                                            \n",
            "__________________________________________________________________________________________________\n",
            "input_3 (InputLayer)            [(None, 20, 512)]    0                                            \n",
            "__________________________________________________________________________________________________\n",
            "reshape (Reshape)               (None, 60, 16)       0           max_pooling2d[0][0]              \n",
            "__________________________________________________________________________________________________\n",
            "input_5 (InputLayer)            [(None, 320, 25088)] 0                                            \n",
            "__________________________________________________________________________________________________\n",
            "lstm (LSTM)                     (None, 320, 128)     328192      input_2[0][0]                    \n",
            "__________________________________________________________________________________________________\n",
            "lstm_2 (LSTM)                   (None, 20, 128)      328192      input_3[0][0]                    \n",
            "__________________________________________________________________________________________________\n",
            "lstm_4 (LSTM)                   (None, 60, 128)      74240       reshape[0][0]                    \n",
            "__________________________________________________________________________________________________\n",
            "lstm_6 (LSTM)                   (None, 320, 128)     12911104    input_5[0][0]                    \n",
            "__________________________________________________________________________________________________\n",
            "lstm_1 (LSTM)                   (None, 64)           49408       lstm[0][0]                       \n",
            "__________________________________________________________________________________________________\n",
            "lstm_3 (LSTM)                   (None, 64)           49408       lstm_2[0][0]                     \n",
            "__________________________________________________________________________________________________\n",
            "lstm_5 (LSTM)                   (None, 64)           49408       lstm_4[0][0]                     \n",
            "__________________________________________________________________________________________________\n",
            "lstm_7 (LSTM)                   (None, 64)           49408       lstm_6[0][0]                     \n",
            "__________________________________________________________________________________________________\n",
            "tf.stack (TFOpLambda)           (None, 4, 64)        0           lstm_1[0][0]                     \n",
            "                                                                 lstm_3[0][0]                     \n",
            "                                                                 lstm_5[0][0]                     \n",
            "                                                                 lstm_7[0][0]                     \n",
            "__________________________________________________________________________________________________\n",
            "factorized_pooling_fusion_layer (None, 16)           32          tf.stack[0][0]                   \n",
            "__________________________________________________________________________________________________\n",
            "dense (Dense)                   (None, 48)           816         factorized_pooling_fusion_layer[0\n",
            "__________________________________________________________________________________________________\n",
            "dense_1 (Dense)                 (None, 1)            49          dense[0][0]                      \n",
            "==================================================================================================\n",
            "Total params: 13,847,889\n",
            "Trainable params: 13,847,889\n",
            "Non-trainable params: 0\n",
            "__________________________________________________________________________________________________\n"
          ],
          "name": "stdout"
        }
      ]
    },
    {
      "cell_type": "code",
      "metadata": {
        "colab": {
          "base_uri": "https://localhost:8080/"
        },
        "id": "eawHfChueeSi",
        "outputId": "bf3bebc1-0168-4475-a3a1-fcce994b5083"
      },
      "source": [
        "_, epoch = model.load()"
      ],
      "execution_count": null,
      "outputs": [
        {
          "output_type": "stream",
          "text": [
            "/content/drive/MyDrive/deception_dataset/experiments/multimodal_deception_pulse/checkpoint/fbp_VIDEO_FACE/cp-0020.ckpt\n"
          ],
          "name": "stdout"
        }
      ]
    },
    {
      "cell_type": "code",
      "metadata": {
        "colab": {
          "base_uri": "https://localhost:8080/"
        },
        "id": "tsh8W00wJqyH",
        "outputId": "e5b46067-6fe6-4bcd-ba41-1fd5ad324916"
      },
      "source": [
        "epoch"
      ],
      "execution_count": null,
      "outputs": [
        {
          "output_type": "execute_result",
          "data": {
            "text/plain": [
              "20"
            ]
          },
          "metadata": {
            "tags": []
          },
          "execution_count": 25
        }
      ]
    },
    {
      "cell_type": "code",
      "metadata": {
        "id": "ILLKavH5x1L8"
      },
      "source": [
        "import tensorflow as tf\n",
        "\n",
        "from base.base_dataset_processor import BaseDatasetProcessor\n",
        "from configs.dataset.modality import DatasetFeaturesSet\n",
        "\n",
        "\n",
        "class MultimodalDatasetFeaturesProcessor(BaseDatasetProcessor):\n",
        "\n",
        "    def __init__(self, modalities_list):\n",
        "        self._modalities_list = modalities_list\n",
        "\n",
        "    def pre_process(self, dataset: tf.data.Dataset, parallel_calls: int):\n",
        "        dataset = dataset.map(self._extract_specified_modalities_and_ensure_shape, num_parallel_calls=parallel_calls)\n",
        "        dataset = dataset.map(self.concat_with_labels, num_parallel_calls=parallel_calls)\n",
        "        return dataset\n",
        "\n",
        "    @tf.function\n",
        "    def concat_with_labels(self, example: tf.train.Example):\n",
        "        inputs = []\n",
        "        for modality in self._modalities_list:\n",
        "            inputs.append(tf.expand_dims(example[str(modality.name)], 0))\n",
        "\n",
        "        return (tuple(inputs),1 )\n",
        "\n",
        "    @tf.function\n",
        "    def _extract_specified_modalities_and_ensure_shape(self, example: tf.Tensor) -> dict:\n",
        "        tf_features_dict = {}\n",
        "        for modality in self._modalities_list:\n",
        "            data = example[str(modality.name)]\n",
        "            tf_features_dict[str(modality.name)] = tf.ensure_shape(data, modality.config.shape)\n",
        "\n",
        "        return tf_features_dict\n",
        "\n",
        "    @tf.function\n",
        "    def filter_nan(self, input_, output):\n",
        "        return not tf.reduce_any(tf.math.is_nan(input_)) and not tf.reduce_any(tf.math.is_nan(output))\n"
      ],
      "execution_count": null,
      "outputs": []
    },
    {
      "cell_type": "code",
      "metadata": {
        "id": "u0ks8IyVi1mv"
      },
      "source": [
        "ress = []\n",
        "shapes_dict= {}\n",
        "\n",
        "for d in features:\n",
        "  res = {}\n",
        "  for modality in modalities:\n",
        "    res.update({modality.name: d[modality]})\n",
        "    shapes_dict.update({modality.name: modality.config.shape})\n",
        "  ress.append(res)\n",
        "  \n",
        "def meta_dict_gen():\n",
        "  for res in ress:\n",
        "   yield res"
      ],
      "execution_count": null,
      "outputs": []
    },
    {
      "cell_type": "code",
      "metadata": {
        "id": "7xdAiV4O5POC"
      },
      "source": [
        "dataset = tf.data.Dataset.from_generator(\n",
        "  meta_dict_gen,\n",
        "  output_types={k: tf.float32 for k in shapes_dict},\n",
        "  output_shapes=shapes_dict)\n",
        "\n",
        "processor = MultimodalDatasetFeaturesProcessor(modalities_list=modalities)\n",
        "ds = processor.pre_process(dataset, parallel_calls=10)\n",
        "predictions = model.get_test_model().predict(ds)"
      ],
      "execution_count": null,
      "outputs": []
    },
    {
      "cell_type": "code",
      "metadata": {
        "colab": {
          "base_uri": "https://localhost:8080/"
        },
        "id": "j13h5-6vsbnj",
        "outputId": "fac5bd1f-3f86-496e-ac47-df99c7a0ba3c"
      },
      "source": [
        "np.squeeze(predictions)"
      ],
      "execution_count": null,
      "outputs": [
        {
          "output_type": "execute_result",
          "data": {
            "text/plain": [
              "array([0.2618021 , 0.16087417, 0.14773522, 0.13859892, 0.15713096,\n",
              "       0.25025815, 0.43769652, 0.42819574, 0.5069501 , 0.4177396 ,\n",
              "       0.5697479 , 0.15955484, 0.1443656 , 0.17846479, 0.36439928,\n",
              "       0.49246886, 0.4897978 , 0.4876414 , 0.4870885 , 0.48972693,\n",
              "       0.4875653 ], dtype=float32)"
            ]
          },
          "metadata": {
            "tags": []
          },
          "execution_count": 31
        }
      ]
    },
    {
      "cell_type": "code",
      "metadata": {
        "id": "nkp12Am_sqGU"
      },
      "source": [
        "import seaborn as sns\n",
        "import matplotlib\n",
        "import matplotlib.pyplot as plt"
      ],
      "execution_count": null,
      "outputs": []
    },
    {
      "cell_type": "code",
      "metadata": {
        "colab": {
          "base_uri": "https://localhost:8080/",
          "height": 565
        },
        "id": "8HNvuKA4sfhc",
        "outputId": "8c5751e3-1dbd-470f-efca-028a5918d2f0"
      },
      "source": [
        "result_data = np.squeeze(predictions)\n",
        "visualize_data = [result_data]\n",
        "xSigns = [10*i for i in range(len(result_data))]\n",
        "ySigns = [\"False\"]\n",
        "ax = sns.heatmap(visualize_data, vmin=0, vmax=1, cmap=\"bwr\", xticklabels=xSigns, yticklabels=ySigns)\n",
        "print('Results by each 10 seconds: ')\n",
        "plt.show()\n",
        "ax = sns.heatmap([[visualize_data[0].mean()]], vmin=0, vmax=1, cmap=\"bwr\")\n",
        "print('Mean result: ')\n",
        "plt.show()"
      ],
      "execution_count": null,
      "outputs": [
        {
          "output_type": "stream",
          "text": [
            "Results by each 10 seconds: \n"
          ],
          "name": "stdout"
        },
        {
          "output_type": "display_data",
          "data": {
            "image/png": "[encoded data removed]",
            "text/plain": [
              "<Figure size 432x288 with 2 Axes>"
            ]
          },
          "metadata": {
            "tags": [],
            "needs_background": "light"
          }
        },
        {
          "output_type": "stream",
          "text": [
            "Mean result: \n"
          ],
          "name": "stdout"
        },
        {
          "output_type": "display_data",
          "data": {
            "image/png": "[encoded data removed]",
            "text/plain": [
              "<Figure size 432x288 with 2 Axes>"
            ]
          },
          "metadata": {
            "tags": [],
            "needs_background": "light"
          }
        }
      ]
    },
    {
      "cell_type": "markdown",
      "metadata": {
        "id": "DD4jrBPosgGU"
      },
      "source": [
        "## Оценка модели"
      ]
    },
    {
      "cell_type": "code",
      "metadata": {
        "colab": {
          "base_uri": "https://localhost:8080/"
        },
        "id": "Pks2cl047Uf4",
        "outputId": "35d02916-1e83-4298-a00c-04780549b2f7"
      },
      "source": [
        "from dataset.manager.data_manager import DataManager\n",
        "\n",
        "DATASET_TF_RECORDS_PATH = \"/content/drive/MyDrive/deception_dataset/tmp/deception_dataset_features\"\n",
        "from dataset.preprocessor.multimodal_dataset_features_processor import MultimodalDatasetFeaturesProcessor\n",
        "data_manager = DataManager(\n",
        "            tf_record_path=DATASET_TF_RECORDS_PATH,\n",
        "            batch_size=4)"
      ],
      "execution_count": null,
      "outputs": [
        {
          "output_type": "stream",
          "text": [
            "Dataset files: ['/content/drive/MyDrive/deception_dataset/tmp/deception_dataset_features/deception_dataset_features-1.tfrecords', '/content/drive/MyDrive/deception_dataset/tmp/deception_dataset_features/deception_dataset_features-10.tfrecords', '/content/drive/MyDrive/deception_dataset/tmp/deception_dataset_features/deception_dataset_features-11.tfrecords', '/content/drive/MyDrive/deception_dataset/tmp/deception_dataset_features/deception_dataset_features-12.tfrecords', '/content/drive/MyDrive/deception_dataset/tmp/deception_dataset_features/deception_dataset_features-13.tfrecords', '/content/drive/MyDrive/deception_dataset/tmp/deception_dataset_features/deception_dataset_features-14.tfrecords', '/content/drive/MyDrive/deception_dataset/tmp/deception_dataset_features/deception_dataset_features-15.tfrecords', '/content/drive/MyDrive/deception_dataset/tmp/deception_dataset_features/deception_dataset_features-16.tfrecords', '/content/drive/MyDrive/deception_dataset/tmp/deception_dataset_features/deception_dataset_features-2.tfrecords', '/content/drive/MyDrive/deception_dataset/tmp/deception_dataset_features/deception_dataset_features-3.tfrecords', '/content/drive/MyDrive/deception_dataset/tmp/deception_dataset_features/deception_dataset_features-4.tfrecords', '/content/drive/MyDrive/deception_dataset/tmp/deception_dataset_features/deception_dataset_features-5.tfrecords', '/content/drive/MyDrive/deception_dataset/tmp/deception_dataset_features/deception_dataset_features-6.tfrecords', '/content/drive/MyDrive/deception_dataset/tmp/deception_dataset_features/deception_dataset_features-7.tfrecords', '/content/drive/MyDrive/deception_dataset/tmp/deception_dataset_features/deception_dataset_features-8.tfrecords', '/content/drive/MyDrive/deception_dataset/tmp/deception_dataset_features/deception_dataset_features-9.tfrecords']\n",
            "Train files size: 11\n",
            "Valid files size: 5\n"
          ],
          "name": "stdout"
        }
      ]
    },
    {
      "cell_type": "code",
      "metadata": {
        "colab": {
          "base_uri": "https://localhost:8080/"
        },
        "id": "FulHKKe3CdQO",
        "outputId": "6295915d-2893-49c0-d98c-3311d490ae68"
      },
      "source": [
        "valid = data_manager.build_validation_dataset( MultimodalDatasetFeaturesProcessor(modalities_list=modalities))\n",
        "\n",
        "valid_numpy_dataset_y = []\n",
        "for x in valid.as_numpy_iterator():\n",
        "    valid_numpy_dataset_y.extend(x[1])\n",
        "valid_numpy_dataset_y = np.asarray(valid_numpy_dataset_y)\n",
        "print(valid_numpy_dataset_y.shape)"
      ],
      "execution_count": null,
      "outputs": [
        {
          "output_type": "stream",
          "text": [
            "(160, 1)\n"
          ],
          "name": "stdout"
        }
      ]
    },
    {
      "cell_type": "code",
      "metadata": {
        "id": "1tlv6MIxCzly"
      },
      "source": [
        "cnn_predicted = model.get_test_model().predict(valid)"
      ],
      "execution_count": null,
      "outputs": []
    },
    {
      "cell_type": "code",
      "metadata": {
        "id": "IZxgP4olC715"
      },
      "source": [
        "import matplotlib\n",
        "import matplotlib.pyplot as plt\n",
        "import numpy\n",
        "from sklearn.externals._arff import xrange\n",
        "from sklearn.metrics import roc_curve, confusion_matrix\n",
        "\n",
        "\n",
        "def plot_binary_classification(y_test, predicted, predicted_prob, name):\n",
        "    predicted = numpy.around(predicted, 0)\n",
        "    if predicted_prob is not None:\n",
        "        # Show ROC curve\n",
        "        fpr, tpr, threshold = roc_curve(y_test, predicted_prob)\n",
        "        print(\"rates\")\n",
        "        print(fpr)\n",
        "        print(tpr)\n",
        "        print(\"ROC threshold\")\n",
        "        print(threshold)\n",
        "        plt.plot(fpr, tpr)\n",
        "        plt.title('ROC curve: ' + name)\n",
        "        plt.xlabel('false positive rate')\n",
        "        plt.ylabel('true positive rate')\n",
        "        plt.xlim(0, )\n",
        "        plt.ylim(0, )\n",
        "        plt.show()\n",
        "\n",
        "    # Show confusion matrix\n",
        "    cm = confusion_matrix(y_test, predicted)\n",
        "    print(cm)\n",
        "    plt.figure(figsize=(7, 7))\n",
        "    plt.imshow(cm, interpolation='nearest', cmap='Pastel1')\n",
        "    plt.title('Confusion matrix: ' + name, size=10)\n",
        "    plt.colorbar()\n",
        "    tick_marks = numpy.arange(2)\n",
        "    plt.xticks(tick_marks, [\"Deception\", \"Truth\"], size=10)\n",
        "    plt.yticks(tick_marks, [\"Deception\", \"Truth\"], size=10)\n",
        "    plt.tight_layout()\n",
        "    plt.ylabel('Actual label', size=10)\n",
        "    plt.xlabel('Predicted label', size=10)\n",
        "    width, height = cm.shape\n",
        "    for x in xrange(width):\n",
        "        for y in xrange(height):\n",
        "            plt.annotate(str(cm[x][y]), xy=(y, x),\n",
        "                         horizontalalignment='center',\n",
        "                         verticalalignment='center',\n",
        "                         size=20)\n",
        "    plt.show()"
      ],
      "execution_count": null,
      "outputs": []
    },
    {
      "cell_type": "code",
      "metadata": {
        "colab": {
          "base_uri": "https://localhost:8080/",
          "height": 1000
        },
        "id": "Gt2lDswlC2Jd",
        "outputId": "02035bfa-ee35-4f49-da2c-8f43b929f66a"
      },
      "source": [
        "plot_binary_classification( valid_numpy_dataset_y, cnn_predicted,\n",
        "                                                 cnn_predicted,\n",
        "                                                 \"Mulimodal deception detction\")"
      ],
      "execution_count": null,
      "outputs": [
        {
          "output_type": "stream",
          "text": [
            "rates\n",
            "[0.         0.         0.         0.01234568 0.01234568 0.02469136\n",
            " 0.02469136 0.03703704 0.03703704 0.09876543 0.09876543 0.11111111\n",
            " 0.11111111 0.13580247 0.13580247 0.14814815 0.14814815 0.19753086\n",
            " 0.19753086 0.24691358 0.24691358 0.28395062 0.28395062 1.        ]\n",
            "[0.         0.01265823 0.73417722 0.73417722 0.81012658 0.81012658\n",
            " 0.82278481 0.82278481 0.84810127 0.84810127 0.87341772 0.87341772\n",
            " 0.88607595 0.88607595 0.92405063 0.92405063 0.93670886 0.93670886\n",
            " 0.94936709 0.94936709 0.98734177 0.98734177 1.         1.        ]\n",
            "ROC threshold\n",
            "[1.9393094  0.9393094  0.8878148  0.87950325 0.85598654 0.8525013\n",
            " 0.8513418  0.84532297 0.820944   0.64267826 0.5438639  0.5331279\n",
            " 0.501048   0.49058792 0.48932466 0.4892266  0.4887392  0.4883536\n",
            " 0.48824537 0.4877574  0.48762357 0.48707113 0.48705366 0.05564524]\n"
          ],
          "name": "stdout"
        },
        {
          "output_type": "display_data",
          "data": {
            "image/png": "[encoded data removed]",
            "text/plain": [
              "<Figure size 432x288 with 1 Axes>"
            ]
          },
          "metadata": {
            "tags": [],
            "needs_background": "light"
          }
        },
        {
          "output_type": "stream",
          "text": [
            "[[72  9]\n",
            " [ 9 70]]\n"
          ],
          "name": "stdout"
        },
        {
          "output_type": "display_data",
          "data": {
            "image/png": "[encoded data removed]",
            "text/plain": [
              "<Figure size 504x504 with 2 Axes>"
            ]
          },
          "metadata": {
            "tags": [],
            "needs_background": "light"
          }
        }
      ]
    },
    {
      "cell_type": "code",
      "metadata": {
        "id": "rD-p9iKxDWBg"
      },
      "source": [
        ""
      ],
      "execution_count": null,
      "outputs": []
    }
  ]
}